{
  "cells": [
    {
      "cell_type": "markdown",
      "metadata": {},
      "source": [
        "# Fix Time Windows - Simple Version\n",
        "\n",
        "Updates all time windows in your ODL model to today's date."
      ]
    },
    {
      "cell_type": "code",
      "execution_count": 1,
      "metadata": {},
      "outputs": [
        {
          "name": "stdout",
          "output_type": "stream",
          "text": [
            "Imports loaded\n"
          ]
        }
      ],
      "source": [
        "import json\n",
        "from datetime import datetime, timedelta\n",
        "\n",
        "print(\"Imports loaded\")"
      ]
    },
    {
      "cell_type": "markdown",
      "metadata": {},
      "source": [
        "## Configuration - CHANGE THIS"
      ]
    },
    {
      "cell_type": "code",
      "execution_count": 8,
      "metadata": {},
      "outputs": [
        {
          "name": "stdout",
          "output_type": "stream",
          "text": [
            "Model file: ../test_model_mathias_fixed.json\n"
          ]
        }
      ],
      "source": [
        "# Set your filename here\n",
        "MODEL_FILE = \"../test_model_mathias_fixed.json\"\n",
        "\n",
        "print(f\"Model file: {MODEL_FILE}\")"
      ]
    },
    {
      "cell_type": "markdown",
      "metadata": {},
      "source": [
        "## Load Model"
      ]
    },
    {
      "cell_type": "code",
      "execution_count": 9,
      "metadata": {},
      "outputs": [
        {
          "name": "stdout",
          "output_type": "stream",
          "text": [
            "Loaded model with 106 jobs\n"
          ]
        }
      ],
      "source": [
        "# Load the model\n",
        "with open(MODEL_FILE, 'r') as f:\n",
        "    model = json.load(f)\n",
        "\n",
        "print(f\"Loaded model with {len(model['data']['jobs'])} jobs\")"
      ]
    },
    {
      "cell_type": "markdown",
      "metadata": {},
      "source": [
        "## Analyze Current Dates"
      ]
    },
    {
      "cell_type": "code",
      "execution_count": 14,
      "metadata": {},
      "outputs": [
        {
          "name": "stdout",
          "output_type": "stream",
          "text": [
            "Current dates in model: [datetime.date(2025, 10, 27), datetime.date(2025, 10, 28), datetime.date(2025, 10, 29)]\n",
            "Earliest date: 2025-10-27\n",
            "Today: 2025-10-27\n",
            "Need to shift forward: 1 days\n"
          ]
        }
      ],
      "source": [
        "# Find all dates in the model\n",
        "dates = set()\n",
        "\n",
        "for job in model['data']['jobs']:\n",
        "    for stop in job['stops']:\n",
        "        for tw in stop['multiTWs']:\n",
        "            dt = datetime.fromisoformat(tw['openTime'])\n",
        "            dates.add(dt.date())\n",
        "\n",
        "earliest = min(dates)\n",
        "today = datetime.now().date()\n",
        "offset = (today - earliest).days + 1\n",
        "\n",
        "print(f\"Current dates in model: {sorted(dates)}\")\n",
        "print(f\"Earliest date: {earliest}\")\n",
        "print(f\"Today: {today}\")\n",
        "print(f\"Need to shift forward: {offset} days\")"
      ]
    },
    {
      "cell_type": "markdown",
      "metadata": {},
      "source": [
        "## Update Time Windows"
      ]
    },
    {
      "cell_type": "code",
      "execution_count": 15,
      "metadata": {},
      "outputs": [
        {
          "name": "stdout",
          "output_type": "stream",
          "text": [
            "Updated 212 time windows\n"
          ]
        }
      ],
      "source": [
        "# Update all time windows\n",
        "count = 0\n",
        "\n",
        "for job in model['data']['jobs']:\n",
        "    for stop in job['stops']:\n",
        "        for tw in stop['multiTWs']:\n",
        "            # Update main time window\n",
        "            old_open = datetime.fromisoformat(tw['openTime'])\n",
        "            old_close = datetime.fromisoformat(tw['closeTime'])\n",
        "            \n",
        "            new_open = old_open + timedelta(days=offset)\n",
        "            new_close = old_close + timedelta(days=offset)\n",
        "            \n",
        "            tw['openTime'] = new_open.isoformat()\n",
        "            tw['closeTime'] = new_close.isoformat()\n",
        "            \n",
        "            # Update penalties\n",
        "            for penalty in tw.get('penalties', []):\n",
        "                old_penalty = datetime.fromisoformat(penalty['openTime'])\n",
        "                new_penalty = old_penalty + timedelta(days=offset)\n",
        "                penalty['openTime'] = new_penalty.isoformat()\n",
        "            \n",
        "            count += 1\n",
        "\n",
        "print(f\"Updated {count} time windows\")"
      ]
    },
    {
      "cell_type": "markdown",
      "metadata": {},
      "source": [
        "## Verify"
      ]
    },
    {
      "cell_type": "code",
      "execution_count": 16,
      "metadata": {},
      "outputs": [
        {
          "name": "stdout",
          "output_type": "stream",
          "text": [
            "New dates in model: [datetime.date(2025, 10, 28), datetime.date(2025, 10, 29), datetime.date(2025, 10, 30)]\n",
            "\n",
            "Example time window:\n",
            "  Open: 2025-10-30T04:00:00\n",
            "  Close: 2025-10-30T20:00:00\n"
          ]
        }
      ],
      "source": [
        "# Check new dates\n",
        "new_dates = set()\n",
        "\n",
        "for job in model['data']['jobs']:\n",
        "    for stop in job['stops']:\n",
        "        for tw in stop['multiTWs']:\n",
        "            dt = datetime.fromisoformat(tw['openTime'])\n",
        "            new_dates.add(dt.date())\n",
        "\n",
        "print(f\"New dates in model: {sorted(new_dates)}\")\n",
        "\n",
        "# Show example\n",
        "example = model['data']['jobs'][0]['stops'][0]['multiTWs'][0]\n",
        "print(f\"\\nExample time window:\")\n",
        "print(f\"  Open: {example['openTime']}\")\n",
        "print(f\"  Close: {example['closeTime']}\")"
      ]
    },
    {
      "cell_type": "markdown",
      "metadata": {},
      "source": [
        "## Save"
      ]
    },
    {
      "cell_type": "code",
      "execution_count": 17,
      "metadata": {},
      "outputs": [
        {
          "name": "stdout",
          "output_type": "stream",
          "text": [
            "Saved updated model to: ../test_model_mathias_fixed.json\n",
            "Done!\n"
          ]
        }
      ],
      "source": [
        "# Save the updated model\n",
        "with open(MODEL_FILE, 'w') as f:\n",
        "    json.dump(model, f, indent=2)\n",
        "\n",
        "print(f\"Saved updated model to: {MODEL_FILE}\")\n",
        "print(\"Done!\")"
      ]
    }
  ],
  "metadata": {
    "kernelspec": {
      "display_name": "Python 3",
      "language": "python",
      "name": "python3"
    },
    "language_info": {
      "codemirror_mode": {
        "name": "ipython",
        "version": 3
      },
      "file_extension": ".py",
      "mimetype": "text/x-python",
      "name": "python",
      "nbconvert_exporter": "python",
      "pygments_lexer": "ipython3",
      "version": "3.10.14"
    }
  },
  "nbformat": 4,
  "nbformat_minor": 4
}
