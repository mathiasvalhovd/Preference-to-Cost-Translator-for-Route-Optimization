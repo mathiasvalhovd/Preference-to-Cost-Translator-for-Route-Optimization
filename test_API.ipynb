{
 "cells": [
  {
   "cell_type": "code",
   "execution_count": 9,
   "metadata": {},
   "outputs": [],
   "source": [
    "# ODL Live API - Connection and Optimization\n",
    "# Simple notebook for connecting to ODL and getting optimized routes\n",
    "\n",
    "## Setup\n",
    "import requests\n",
    "import json\n",
    "from datetime import datetime\n"
   ]
  },
  {
   "cell_type": "code",
   "execution_count": 34,
   "metadata": {},
   "outputs": [],
   "source": [
    "# INSERT CREDENTIALS HERE\n"
   ]
  },
  {
   "cell_type": "code",
   "execution_count": 14,
   "metadata": {},
   "outputs": [
    {
     "name": "stdout",
     "output_type": "stream",
     "text": [
      "✓ Session configured\n",
      "Base URL: https://optimizer-0.staging.zenderatms.com\n"
     ]
    }
   ],
   "source": [
    "## Initialize session\n",
    "session = requests.Session()\n",
    "session.auth = (USERNAME, PASSWORD)\n",
    "session.headers.update({\n",
    "    'Content-Type': 'application/json',\n",
    "    'Accept': 'application/json'\n",
    "})\n",
    "\n",
    "print(\"✓ Session configured\")\n",
    "print(f\"Base URL: {BASE_URL}\")"
   ]
  },
  {
   "cell_type": "code",
   "execution_count": 13,
   "metadata": {},
   "outputs": [
    {
     "name": "stdout",
     "output_type": "stream",
     "text": [
      "\n",
      "✓ Model loaded\n",
      "Jobs: 106\n",
      "Vehicles: 26\n"
     ]
    }
   ],
   "source": [
    "## Load your model\n",
    "# Adjust path to where your test_model_mathias.json is located\n",
    "MODEL_PATH = \"../test_model_mathias_fixed.json\"\n",
    "\n",
    "with open(MODEL_PATH, 'r') as f:\n",
    "    model = json.load(f)\n",
    "\n",
    "print(f\"\\n✓ Model loaded\")\n",
    "print(f\"Jobs: {len(model['data']['jobs'])}\")\n",
    "print(f\"Vehicles: {len(model['data']['vehicles'])}\")\n",
    "\n"
   ]
  },
  {
   "cell_type": "code",
   "execution_count": 35,
   "metadata": {},
   "outputs": [
    {
     "name": "stdout",
     "output_type": "stream",
     "text": [
      "\n",
      "Uploading model to: https://optimizer-0.staging.zenderatms.com/models/test_20251028_120353\n",
      "Status: 200\n",
      "✓ Model uploaded successfully!\n",
      "✓ Optimization is running in background\n"
     ]
    }
   ],
   "source": [
    "## PUT model to ODL (upload and start optimization)\n",
    "MODEL_ID = f\"test_{datetime.now().strftime('%Y%m%d_%H%M%S')}\"  # Unique ID\n",
    "\n",
    "url = f\"{BASE_URL}/models/{MODEL_ID}\"\n",
    "\n",
    "print(f\"\\nUploading model to: {url}\")\n",
    "response = session.put(url, json=model, timeout=60)\n",
    "\n",
    "print(f\"Status: {response.status_code}\")\n",
    "\n",
    "if response.status_code in [200, 201, 204]:\n",
    "    print(\"✓ Model uploaded successfully!\")\n",
    "    print(\"✓ Optimization is running in background\")\n",
    "else:\n",
    "    print(f\"✗ Error: {response.text}\")\n",
    "\n"
   ]
  },
  {
   "cell_type": "code",
   "execution_count": 36,
   "metadata": {},
   "outputs": [
    {
     "name": "stdout",
     "output_type": "stream",
     "text": [
      "\n",
      "Waiting 10 seconds for initial optimization...\n",
      "✓ Plan retrieved!\n",
      "✓ Saved to: plan_test_20251028_120353.json\n"
     ]
    }
   ],
   "source": [
    "## GET optimized plan (wait a bit for optimization)\n",
    "import time\n",
    "\n",
    "print(\"\\nWaiting 10 seconds for initial optimization...\")\n",
    "time.sleep(10)\n",
    "\n",
    "plan_url = f\"{BASE_URL}/models/{MODEL_ID}/optimiserstate/plan\"\n",
    "plan_response = session.get(plan_url, timeout=30)\n",
    "\n",
    "if plan_response.status_code == 200:\n",
    "    plan = plan_response.json()\n",
    "    print(\"✓ Plan retrieved!\")\n",
    "    \n",
    "    # Save to file\n",
    "    output_file = f'plan_{MODEL_ID}.json'\n",
    "    with open(output_file, 'w') as f:\n",
    "        json.dump(plan, f, indent=2)\n",
    "    print(f\"✓ Saved to: {output_file}\")\n",
    "else:\n",
    "    print(f\"✗ Error getting plan: {plan_response.status_code}\")\n",
    "    plan = None\n"
   ]
  },
  {
   "cell_type": "code",
   "execution_count": 18,
   "metadata": {},
   "outputs": [
    {
     "name": "stdout",
     "output_type": "stream",
     "text": [
      "\n",
      "=== RESULTS ===\n",
      "Number of vehicles: 26\n",
      "Vehicles with routes: 8\n",
      "Total stops: 172\n",
      "Total distance: 999.89 km\n",
      "Total travel time: 30.42 hours\n",
      "Total cost: 473381.04\n",
      "⚠ Unplanned jobs: 20\n"
     ]
    }
   ],
   "source": [
    "## Quick analysis\n",
    "if plan:\n",
    "    vehicle_plans = plan.get('vehiclePlans', [])\n",
    "    print(f\"\\n=== RESULTS ===\")\n",
    "    print(f\"Number of vehicles: {len(vehicle_plans)}\")\n",
    "    \n",
    "    # Count vehicles with routes\n",
    "    vehicles_with_routes = [v for v in vehicle_plans if len(v.get('plannedStops', [])) > 0]\n",
    "    print(f\"Vehicles with routes: {len(vehicles_with_routes)}\")\n",
    "    \n",
    "    # Total stops\n",
    "    total_stops = sum(len(v.get('plannedStops', [])) for v in vehicle_plans)\n",
    "    print(f\"Total stops: {total_stops}\")\n",
    "    \n",
    "    # Calculate total distance and time from timeStatistics\n",
    "    total_distance_m = 0\n",
    "    total_travel_seconds = 0\n",
    "    total_cost = 0\n",
    "    \n",
    "    for vehicle in vehicle_plans:\n",
    "        time_stats = vehicle.get('timeStatistics', {})\n",
    "        total_distance_m += time_stats.get('travelMetres', 0)\n",
    "        total_travel_seconds += time_stats.get('travelSeconds', 0)\n",
    "        total_cost += time_stats.get('cost', 0)\n",
    "    \n",
    "    total_distance_km = total_distance_m / 1000\n",
    "    total_travel_hours = total_travel_seconds / 3600\n",
    "    \n",
    "    print(f\"Total distance: {total_distance_km:.2f} km\")\n",
    "    print(f\"Total travel time: {total_travel_hours:.2f} hours\")\n",
    "    print(f\"Total cost: {total_cost:.2f}\")\n",
    "    \n",
    "    # Check unassigned jobs\n",
    "    unplanned = plan.get('unplannedJobs', [])\n",
    "    if len(unplanned) > 0:\n",
    "        print(f\"⚠ Unplanned jobs: {len(unplanned)}\")\n",
    "    else:\n",
    "        print(f\"✓ All jobs planned successfully!\")"
   ]
  },
  {
   "cell_type": "code",
   "execution_count": null,
   "metadata": {},
   "outputs": [],
   "source": [
    "## Clean up (delete model from server)\n",
    "# Uncomment to delete:\n",
    "delete_response = session.delete(url)\n",
    "print(f\"\\nModel deleted: {delete_response.status_code}\")"
   ]
  }
 ],
 "metadata": {
  "kernelspec": {
   "display_name": "Python 3",
   "language": "python",
   "name": "python3"
  },
  "language_info": {
   "codemirror_mode": {
    "name": "ipython",
    "version": 3
   },
   "file_extension": ".py",
   "mimetype": "text/x-python",
   "name": "python",
   "nbconvert_exporter": "python",
   "pygments_lexer": "ipython3",
   "version": "3.10.14"
  }
 },
 "nbformat": 4,
 "nbformat_minor": 2
}
